{
 "cells": [
  {
   "cell_type": "code",
   "execution_count": null,
   "id": "40052c61",
   "metadata": {},
   "outputs": [],
   "source": [
    "import bezier_builder as bb\n",
    "\n"
   ]
  }
 ],
 "metadata": {
  "language_info": {
   "name": "python"
  }
 },
 "nbformat": 4,
 "nbformat_minor": 5
}
